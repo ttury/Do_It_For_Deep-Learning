{
  "nbformat": 4,
  "nbformat_minor": 0,
  "metadata": {
    "colab": {
      "name": "Overfitting&Underfitting.ipynb",
      "provenance": [],
      "collapsed_sections": [],
      "authorship_tag": "ABX9TyPruNE+4b99ibBDz5RQIh+1",
      "include_colab_link": true
    },
    "kernelspec": {
      "name": "python3",
      "display_name": "Python 3"
    },
    "language_info": {
      "name": "python"
    }
  },
  "cells": [
    {
      "cell_type": "markdown",
      "metadata": {
        "id": "view-in-github",
        "colab_type": "text"
      },
      "source": [
        "<a href=\"https://colab.research.google.com/github/ttury/Do_It_For_Deep-Learning/blob/main/Overfitting%26Underfitting.ipynb\" target=\"_parent\"><img src=\"https://colab.research.google.com/assets/colab-badge.svg\" alt=\"Open In Colab\"/></a>"
      ]
    },
    {
      "cell_type": "markdown",
      "metadata": {
        "id": "hmn89Awb7Yym"
      },
      "source": [
        "# **Overfitting and Underfitting**\n",
        "\n",
        "<br/>\n",
        "\n",
        "## Overfitting\n",
        "---\n",
        "> 훈련 세트의 정확도가 99%이고 검증 세트의 정확도가 80% 수준 <br/>\n",
        ">> 분산이 크다(high variance) <br/>\n",
        "\n",
        "\n",
        "> 더 많은 훈련 샘플을 모아 다양한 패턴을 학습시킨다 <br/>\n",
        "> 훈련 샘플 확보가 어렵다면 모델이 훈련 세트에 집착하지 않도록 가중치를 제한한다 <br/>\n",
        ">> 모델의 복잡도를 낮춘다\n",
        "\n",
        "<br/>\n",
        "\n",
        "## Underfitting\n",
        "---\n",
        "> 훈련 세트와 검증 세트 모두 낮은 성능을 내는 경우 <br/>\n",
        ">> 편향이 크다(high bias)\n",
        "\n",
        "> 모델이 충분히 복잡하지 않아 패턴을 모두 잡아내지 못한다 <br/>\n",
        "> 복잡도가 더 높은 모델을 사용하거나 가중치의 규제를 완화한다 <br/>\n",
        "\n",
        "<br/>\n",
        "\n",
        "## 모델 복잡도\n",
        "---\n",
        "> 모델이 가진 학습 가능한 가중치 개수<br/>\n",
        "> 과대적합에 취약\n",
        "\n",
        "<br/>\n",
        "\n",
        "## Bias-Variance Tradeoff\n",
        "---\n",
        "> 편향을 줄이면 분산이 커지고, 분산을 줄이면 편향이 커진다 <br/>\n",
        "> 적절한 편향-분산 트레이드오프를 선택해야 한다\n",
        "\n",
        "<br/>\n",
        "\n",
        "## 학습 곡선(learing curve)\n",
        "----\n",
        "> * x축 : 훈련 세트 크기\n",
        "> * y축 : 정확도\n",
        "\n",
        "> * x축 : 에포크\n",
        "> * y축 : 손실(정확도)\n",
        "\n",
        "> * x축 : 모델 복잡도\n",
        "> * y축 : 손실(정확도)"
      ]
    },
    {
      "cell_type": "code",
      "metadata": {
        "id": "HqP1gNjsE0K-"
      },
      "source": [
        "from sklearn.datasets import load_breast_cancer\n",
        "from sklearn.model_selection import train_test_split\n",
        "import numpy as np\n",
        "from matplotlib import pyplot as plt\n",
        "\n",
        "cancer = load_breast_cancer()\n",
        "x = cancer.data\n",
        "y = cancer.target\n",
        "x_train_all, x_test, y_train_all, y_test = train_test_split(x, y, stratify = y, test_size = 0.2, random_state = 42)\n",
        "x_train, x_val, y_train, y_val = train_test_split(x_train_all, y_train_all, stratify = y_train_all, test_size = 0.2, random_state = 42)"
      ],
      "execution_count": 17,
      "outputs": []
    },
    {
      "cell_type": "code",
      "metadata": {
        "id": "9XFsmQthGF6w"
      },
      "source": [
        "train_mean = np.mean(x_train, axis = 0)\n",
        "train_std = np.std(x_train, axis = 0)\n",
        "\n",
        "x_train_scaled = (x_train - train_mean) / train_std\n",
        "x_val_scaled = (x_val - train_mean) / train_std"
      ],
      "execution_count": 9,
      "outputs": []
    },
    {
      "cell_type": "code",
      "metadata": {
        "id": "obxVl5fv6bgk"
      },
      "source": [
        "class SingleLayer:\n",
        "\n",
        "  def __init__(self, _learning_rate = 0.1):\n",
        "    self.w = None\n",
        "    self.b = None\n",
        "    self.losses = list() # 에포크마다 손실 함수 평균값\n",
        "    self.val_losses = list() # 에포크마다 검증 세트 손실 함수 평균값\n",
        "    self.w_history = list() # 가중치의 변화 과정 저장\n",
        "    self.learning_rate = _learning_rate # 학습률 : 하이퍼마라미터, 가중치의 업데이트 양 조절\n",
        "\n",
        "  def forpass(self, x_i):\n",
        "    z = np.sum(self.w * x_i) + self.b # 하나의 값\n",
        "    return z\n",
        "\n",
        "  def backprop(self, x_i, err):\n",
        "    w_grad = x_i * err # 다차원 벡터\n",
        "    b_grad = 1 * err # 하나의 값\n",
        "    return w_grad, b_grad\n",
        "\n",
        "  def activation(self, z):\n",
        "    z = np.clip(z, -100, None) # 최솟값 -100, 최댓값 x\n",
        "    a = 1 / (1 + np.exp(-z)) # 시그모이드 계산\n",
        "    return a\n",
        "\n",
        "  def logistic_loss(self, y_i, a):\n",
        "    return -(y_i * np.log(a) + (1-y_i) * np.log(1-a)) # 로지스틱 손실 함수 값 구하기\n",
        "\n",
        "  def fit(self, x, y, epochs = 100, x_val = None, y_val = None):\n",
        "    self.w = np.ones(x.shape[1]) # 열 개수(특성 개수)\n",
        "    self.b = 0\n",
        "    self.w_history.append(self.w.copy()) # ndarray를 복사할때 = 사용 x, copy 함수 사용\n",
        "    np.random.seed(42)\n",
        "\n",
        "    for _ in range(epochs):\n",
        "      loss = 0\n",
        "      indexes = np.random.permutation(np.arange(len(x)))\n",
        "      '''\n",
        "      에포크마다 훈련 세트를 무작위로 섞어 손실 함수의 값을 줄임\n",
        "      arrange 함수 : 0 부터 len(x) - 1까지 1씩 커지는 array 생성\n",
        "      permutation 함수 : array를 무작위로 섞음(실제 array 값에는 변화 없음)\n",
        "      '''\n",
        "\n",
        "      for i in indexes:\n",
        "        z = self.forpass(x[i])\n",
        "        a = self.activation(z)\n",
        "        err = -(y[i] - a)\n",
        "        w_grad, b_grad = self.backprop(x[i], err)\n",
        "\n",
        "        self.w -= w_grad * self.learning_rate\n",
        "        self.b -= b_grad\n",
        "        self.w_history.append(self.w.copy()) # 변화한 가중치 기록\n",
        "\n",
        "        a = np.clip(a, 1e-10, 1-1e-10) # (10의 -10승) ~ (1 - 10의 -10승) 범위\n",
        "        loss += self.logistic_loss(y[i], a)\n",
        "\n",
        "      self.losses.append(loss/len(y)) # 손실 함수의 결과값을 샘플 개수로 나누어 평균값 구하기\n",
        "      self.update_val_loss(x_val, y_val)\n",
        "\n",
        "  def update_val_loss(self, x_val, y_val): # 검증 세트 손실 계산하기\n",
        "    if x_val is None:\n",
        "      return\n",
        "    val_loss = 0\n",
        "    for i in range(len(x_val)):\n",
        "      z = self.forpass(x_val[i])\n",
        "      a = self.activation(z)\n",
        "      a = np.clip(a, 1e-10, 1 - 1e-10)\n",
        "      val_loss += self.logistic_loss(y_val[i], a)\n",
        "    self.val_losses.append(val_loss / len(y_val))\n",
        "\n",
        "  def predict(self, x):\n",
        "    z = [self.forpass(x_i) for x_i in x] # 다차원 벡터\n",
        "    return np.array(z) > 0 # 다차원 벡터\n",
        "    '''\n",
        "    시그모이드 출력값의 판단 기준은 0.5이다.\n",
        "    z가 0보다 크면 a가 0.5보다 크고 a가 0보다 작으면 a가 0.5보다 작아지기 때문에\n",
        "    predict 함수에서는 굳이 시그모이드 함수를 사용할 필요가 없이 z만으로 비교한다.\n",
        "    '''\n",
        "    \n",
        "  def score(self, x, y):\n",
        "    return np.mean(self.predict(x) == y) # 정확도 계산"
      ],
      "execution_count": 26,
      "outputs": []
    },
    {
      "cell_type": "code",
      "metadata": {
        "colab": {
          "base_uri": "https://localhost:8080/"
        },
        "id": "W8UbqtQ7Fzmf",
        "outputId": "e5933f4e-c1a6-4ca5-ccbb-ff4aabc328e0"
      },
      "source": [
        "layer3 = SingleLayer()\n",
        "layer3.fit(x_train_scaled, y_train, x_val = x_val_scaled, y_val = y_val)\n",
        "\n",
        "print(layer3.score(x_val_scaled, y_val))"
      ],
      "execution_count": 30,
      "outputs": [
        {
          "output_type": "stream",
          "text": [
            "0.967032967032967\n"
          ],
          "name": "stdout"
        }
      ]
    },
    {
      "cell_type": "code",
      "metadata": {
        "colab": {
          "base_uri": "https://localhost:8080/",
          "height": 283
        },
        "id": "YwBdo3tmLuCO",
        "outputId": "89e1e0b3-7c2c-4242-f79a-fea542b3f9b3"
      },
      "source": [
        "plt.ylim(0, 0.3) # y축 범위 지정\n",
        "plt.plot(layer3.losses) # plot 리스트 매개변수 : 인덱스가 x축, 데이터가 y축이 됨\n",
        "plt.plot(layer3.val_losses)\n",
        "plt.xlabel('epoch')\n",
        "plt.ylabel('loss')\n",
        "plt.legend(['train loss', 'val. loss'])\n",
        "plt.show()\n",
        "\n",
        "# 대략 20번째 에포크 이후에 과대적합 발생"
      ],
      "execution_count": 28,
      "outputs": [
        {
          "output_type": "display_data",
          "data": {
            "image/png": "[encoded data removed]",
            "text/plain": [
              "<Figure size 432x288 with 1 Axes>"
            ]
          },
          "metadata": {
            "tags": [],
            "needs_background": "light"
          }
        }
      ]
    },
    {
      "cell_type": "code",
      "metadata": {
        "colab": {
          "base_uri": "https://localhost:8080/"
        },
        "id": "95e9-aECM3mK",
        "outputId": "a6edd6eb-4dc0-48b3-81d2-963fe393e806"
      },
      "source": [
        "layer4 = SingleLayer()\n",
        "layer4.fit(x_train_scaled, y_train, epochs = 20)\n",
        "# 조기 종료(early stopping)\n",
        "\n",
        "print(layer4.score(x_val_scaled, y_val))"
      ],
      "execution_count": 29,
      "outputs": [
        {
          "output_type": "stream",
          "text": [
            "0.978021978021978\n"
          ],
          "name": "stdout"
        }
      ]
    }
  ]
}