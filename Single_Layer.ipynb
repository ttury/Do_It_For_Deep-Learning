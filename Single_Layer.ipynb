{
  "nbformat": 4,
  "nbformat_minor": 0,
  "metadata": {
    "colab": {
      "name": "Single_Layer.ipynb",
      "provenance": [],
      "collapsed_sections": [],
      "authorship_tag": "ABX9TyNorYuX+NVVQytZuXuQ4IzD",
      "include_colab_link": true
    },
    "kernelspec": {
      "name": "python3",
      "display_name": "Python 3"
    },
    "language_info": {
      "name": "python"
    }
  },
  "cells": [
    {
      "cell_type": "markdown",
      "metadata": {
        "id": "view-in-github",
        "colab_type": "text"
      },
      "source": [
        "<a href=\"https://colab.research.google.com/github/ttury/Do_It_For_Deep-Learning/blob/main/Single_Layer.ipynb\" target=\"_parent\"><img src=\"https://colab.research.google.com/assets/colab-badge.svg\" alt=\"Open In Colab\"/></a>"
      ]
    },
    {
      "cell_type": "code",
      "metadata": {
        "id": "Y5YAtn0ayjOi"
      },
      "source": [
        "# data set prepare\n",
        "\n",
        "from sklearn.datasets import load_breast_cancer\n",
        "import matplotlib.pyplot as plt\n",
        "import numpy as np\n",
        "from sklearn.model_selection import train_test_split\n",
        "\n",
        "cancer = load_breast_cancer()\n",
        "x = cancer.data\n",
        "y = cancer.target\n",
        "\n",
        "x_train, x_test, y_train, y_test = train_test_split(x, y, stratify = y, test_size = 0.2, random_state = 42)"
      ],
      "execution_count": 4,
      "outputs": []
    },
    {
      "cell_type": "code",
      "metadata": {
        "colab": {
          "base_uri": "https://localhost:8080/"
        },
        "id": "X2VE8t7foFIY",
        "outputId": "2b0cbeba-adc6-460b-ea88-1f993aa44af0"
      },
      "source": [
        "class SingleLayer:\n",
        "\n",
        "  def __init__(self):\n",
        "    self.w = None\n",
        "    self.b = None\n",
        "    self.losses = list() # 에포크마다 손실 함수 평균값\n",
        "\n",
        "  def forpass(self, x_i):\n",
        "    z = np.sum(self.w * x_i) + self.b # 하나의 값\n",
        "    return z\n",
        "\n",
        "  def backprop(self, x_i, err):\n",
        "    w_grad = x_i * err # 다차원 벡터\n",
        "    b_grad = 1 * err # 하나의 값\n",
        "    return w_grad, b_grad\n",
        "\n",
        "  def activation(self, z):\n",
        "    z = np.clip(z, -100, None) # 최솟값 -100, 최댓값 x\n",
        "    a = 1 / (1 + np.exp(-z)) # 시그모이드 계산\n",
        "    return a\n",
        "\n",
        "  def fit(self, x, y, epochs=100):\n",
        "    self.w = np.ones(x.shape[1]) # 열 개수(특성 개수)\n",
        "    self.b = 0\n",
        "\n",
        "    for _ in range(epochs):\n",
        "      loss = 0\n",
        "      indexes = np.random.permutation(np.arange(len(x)))\n",
        "      '''\n",
        "      에포크마다 훈련 세트를 무작위로 섞어 손실 함수의 값을 줄임\n",
        "      arrange 함수 : 0 부터 len(x) - 1까지 1씩 커지는 array 생성\n",
        "      permutation 함수 : array를 무작위로 섞음(실제 array 값에는 변화 없음)\n",
        "      '''\n",
        "\n",
        "      for i in indexes:\n",
        "        z = self.forpass(x[i])\n",
        "        a = self.activation(z)\n",
        "        err = -(y[i] - a)\n",
        "        w_grad, b_grad = self.backprop(x[i], err)\n",
        "        self.w -= w_grad\n",
        "        self.b -= b_grad\n",
        "        a = np.clip(a, 1e-10, 1-1e-10) # (10의 -10승) ~ (1 - 10의 -10승) 범위\n",
        "        logistic_loss = -(y[i] * np.log(a) + (1-y[i]) * np.log(1-a)) # 로지스틱 손실 함수 값 구하기\n",
        "        loss += logistic_loss\n",
        "\n",
        "      self.losses.append(loss/len(y)) # 손실 함수의 결과값을 샘플 개수로 나누어 평균값 구하기\n",
        "\n",
        "  def predict(self, x):\n",
        "    z = [self.forpass(x_i) for x_i in x] # 다차원 벡터\n",
        "    return np.array(z) > 0 # 다차원 벡터\n",
        "    '''\n",
        "    시그모이드 출력값의 판단 기준은 0.5이다.\n",
        "    z가 0보다 크면 a가 0.5보다 크고 a가 0보다 작으면 a가 0.5보다 작아지기 때문에\n",
        "    predict 함수에서는 굳이 시그모이드 함수를 사용할 필요가 없이 z만으로 비교한다.\n",
        "    '''\n",
        "    \n",
        "  def score(self, x, y):\n",
        "    return np.mean(self.predict(x) == y) # 정확도 계산\n",
        "  \n",
        "layer = SingleLayer()\n",
        "layer.fit(x_train, y_train)\n",
        "print(layer.score(x_test, y_test))"
      ],
      "execution_count": 23,
      "outputs": [
        {
          "output_type": "stream",
          "text": [
            "0.9210526315789473\n"
          ],
          "name": "stdout"
        }
      ]
    },
    {
      "cell_type": "code",
      "metadata": {
        "colab": {
          "base_uri": "https://localhost:8080/",
          "height": 279
        },
        "id": "L4GPEkmf0pYZ",
        "outputId": "7aad6e82-3f4c-41df-9db1-9a23a9a7291d"
      },
      "source": [
        "plt.plot(layer.losses)\n",
        "plt.xlabel('epoch')\n",
        "plt.ylabel('loss')\n",
        "plt.show()"
      ],
      "execution_count": 24,
      "outputs": [
        {
          "output_type": "display_data",
          "data": {
            "image/png": "[encoded data removed]",
            "text/plain": [
              "<Figure size 432x288 with 1 Axes>"
            ]
          },
          "metadata": {
            "tags": [],
            "needs_background": "light"
          }
        }
      ]
    }
  ]
}