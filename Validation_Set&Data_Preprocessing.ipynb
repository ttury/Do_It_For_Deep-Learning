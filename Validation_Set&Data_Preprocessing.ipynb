{
  "nbformat": 4,
  "nbformat_minor": 0,
  "metadata": {
    "colab": {
      "name": "Validation_Set&Data_Preprocessing.ipynb",
      "provenance": [],
      "collapsed_sections": [],
      "authorship_tag": "ABX9TyMoKkn4of8TvbcJwPzXVPb6",
      "include_colab_link": true
    },
    "kernelspec": {
      "name": "python3",
      "display_name": "Python 3"
    },
    "language_info": {
      "name": "python"
    }
  },
  "cells": [
    {
      "cell_type": "markdown",
      "metadata": {
        "id": "view-in-github",
        "colab_type": "text"
      },
      "source": [
        "<a href=\"https://colab.research.google.com/github/ttury/Do_It_For_Deep-Learning/blob/main/Validation_Set%26Data_Preprocessing.ipynb\" target=\"_parent\"><img src=\"https://colab.research.google.com/assets/colab-badge.svg\" alt=\"Open In Colab\"/></a>"
      ]
    },
    {
      "cell_type": "code",
      "metadata": {
        "id": "a5zP4Ul3Ebqn"
      },
      "source": [
        "from sklearn.datasets import load_breast_cancer\n",
        "from sklearn.model_selection import train_test_split\n",
        "\n",
        "cancer = load_breast_cancer()\n",
        "x = cancer.data\n",
        "y = cancer.target\n",
        "x_train_all, x_test, y_train_all, y_test = train_test_split(x, y, stratify = y, test_size = 0.2, random_state = 42)"
      ],
      "execution_count": 2,
      "outputs": []
    },
    {
      "cell_type": "code",
      "metadata": {
        "colab": {
          "base_uri": "https://localhost:8080/"
        },
        "id": "qjzjaKznFMJ8",
        "outputId": "10bee76d-c2fe-4f04-ed3f-53f1d87ceb2c"
      },
      "source": [
        "from sklearn.linear_model import SGDClassifier\n",
        "\n",
        "sgd = SGDClassifier(loss = 'log', random_state = 42) # loss와 같이 사용자가 선택해야 하는 매개변수를 하이퍼파라미터라고 함\n",
        "sgd.fit(x_train_all, y_train_all)\n",
        "print(sgd.score(x_test, y_test))"
      ],
      "execution_count": 3,
      "outputs": [
        {
          "output_type": "stream",
          "text": [
            "0.8333333333333334\n"
          ],
          "name": "stdout"
        }
      ]
    },
    {
      "cell_type": "code",
      "metadata": {
        "colab": {
          "base_uri": "https://localhost:8080/"
        },
        "id": "IX2C129uJMzR",
        "outputId": "e6d97559-fa68-4a2a-f90d-1a6c85ffe799"
      },
      "source": [
        "from sklearn.linear_model import SGDClassifier\n",
        "\n",
        "sgd = SGDClassifier(loss = 'hinge', random_state = 42) # SGDClassifier 클래스의 매개변수를 바꿔보기 -> '모델을 튜닝한다'\n",
        "sgd.fit(x_train_all, y_train_all)\n",
        "print(sgd.score(x_test, y_test))"
      ],
      "execution_count": 4,
      "outputs": [
        {
          "output_type": "stream",
          "text": [
            "0.9385964912280702\n"
          ],
          "name": "stdout"
        }
      ]
    },
    {
      "cell_type": "code",
      "metadata": {
        "colab": {
          "base_uri": "https://localhost:8080/"
        },
        "id": "7td6Go9kJ9SB",
        "outputId": "2502a440-3269-4fed-8982-e54f42a638f6"
      },
      "source": [
        "# validation set(검증 세트)\n",
        "\n",
        "from sklearn.datasets import load_breast_cancer\n",
        "from sklearn.model_selection import train_test_split\n",
        "\n",
        "cancer = load_breast_cancer()\n",
        "x = cancer.data\n",
        "y = cancer.target\n",
        "x_train_all, x_test, y_train_all, y_test = train_test_split(x, y, stratify = y, test_size = 0.2, random_state = 42)\n",
        "x_train, x_val, y_train, y_val = train_test_split(x_train_all, y_train_all, stratify = y_train_all, test_size = 0.2, random_state = 42)\n",
        "\n",
        "print(len(x_train), len(x_val)) # train : val : test = 64 : 16 : 20"
      ],
      "execution_count": 5,
      "outputs": [
        {
          "output_type": "stream",
          "text": [
            "364 91\n"
          ],
          "name": "stdout"
        }
      ]
    },
    {
      "cell_type": "code",
      "metadata": {
        "colab": {
          "base_uri": "https://localhost:8080/",
          "height": 71
        },
        "id": "QFfmFq4uLTMC",
        "outputId": "50e3fbe4-b763-423c-be37-b93f1a084de2"
      },
      "source": [
        "sgd = SGDClassifier(loss = 'log', random_state = 42)\n",
        "sgd.fit(x_train, y_train)\n",
        "print(sgd.score(x_val, y_val))\n",
        "'''\n",
        "훈련 세트의 양이 너무 적어 오히려 성능이 낮아짐\n",
        "데이터 양이 너무 적은 경우에는 교차 검증을 사용하기도 함\n",
        "검증과 테스트 세트의 샘플 수를 만개 이상 확보할 수 있다면 나머지는 훈련 세트에 할당\n",
        "'''"
      ],
      "execution_count": 6,
      "outputs": [
        {
          "output_type": "stream",
          "text": [
            "0.6923076923076923\n"
          ],
          "name": "stdout"
        },
        {
          "output_type": "execute_result",
          "data": {
            "application/vnd.google.colaboratory.intrinsic+json": {
              "type": "string"
            },
            "text/plain": [
              "'\\n훈련 세트의 양이 너무 적어 오히려 성능이 낮아짐\\n데이터 양이 너무 적은 경우에는 교차 검증을 사용하기도 함\\n검증과 테스트 세트의 샘플 수를 만개 이상 확보할 수 있다면 나머지는 훈련 세트에 할당\\n'"
            ]
          },
          "metadata": {
            "tags": []
          },
          "execution_count": 6
        }
      ]
    },
    {
      "cell_type": "code",
      "metadata": {
        "colab": {
          "base_uri": "https://localhost:8080/",
          "height": 297
        },
        "id": "Ac0O9ACTLjib",
        "outputId": "06478fd1-581f-4089-f14c-99c35519b6ab"
      },
      "source": [
        "# data scale\n",
        "\n",
        "import matplotlib.pyplot as plt\n",
        "import numpy as np\n",
        "\n",
        "print(cancer.feature_names[[2, 3]])\n",
        "plt.boxplot(x_train[:, 2:4])\n",
        "plt.xlabel('feature')\n",
        "plt.ylabel('value')\n",
        "plt.show()"
      ],
      "execution_count": 7,
      "outputs": [
        {
          "output_type": "stream",
          "text": [
            "['mean perimeter' 'mean area']\n"
          ],
          "name": "stdout"
        },
        {
          "output_type": "display_data",
          "data": {
            "image/png": "[encoded data removed]",
            "text/plain": [
              "<Figure size 432x288 with 1 Axes>"
            ]
          },
          "metadata": {
            "tags": [],
            "needs_background": "light"
          }
        }
      ]
    },
    {
      "cell_type": "code",
      "metadata": {
        "colab": {
          "base_uri": "https://localhost:8080/"
        },
        "id": "g1vgnoqTOdJT",
        "outputId": "74a6a716-bc96-4832-f680-f2a68e8d590f"
      },
      "source": [
        "class SingleLayer:\n",
        "\n",
        "  def __init__(self, _learning_rate = 0.1):\n",
        "    self.w = None\n",
        "    self.b = None\n",
        "    self.losses = list() # 에포크마다 손실 함수 평균값\n",
        "    self.w_history = list() # 가중치의 변화 과정 저장\n",
        "    self.learning_rate = _learning_rate # 학습률 : 하이퍼마라미터, 가중치의 업데이트 양 조절\n",
        "\n",
        "  def forpass(self, x_i):\n",
        "    z = np.sum(self.w * x_i) + self.b # 하나의 값\n",
        "    return z\n",
        "\n",
        "  def backprop(self, x_i, err):\n",
        "    w_grad = x_i * err # 다차원 벡터\n",
        "    b_grad = 1 * err # 하나의 값\n",
        "    return w_grad, b_grad\n",
        "\n",
        "  def activation(self, z):\n",
        "    z = np.clip(z, -100, None) # 최솟값 -100, 최댓값 x\n",
        "    a = 1 / (1 + np.exp(-z)) # 시그모이드 계산\n",
        "    return a\n",
        "\n",
        "  def fit(self, x, y, epochs=100):\n",
        "    self.w = np.ones(x.shape[1]) # 열 개수(특성 개수)\n",
        "    self.b = 0\n",
        "    self.w_history.append(self.w.copy()) # ndarray를 복사할때 = 사용 x, copy 함수 사용\n",
        "    np.random.seed(42)\n",
        "\n",
        "    for _ in range(epochs):\n",
        "      loss = 0\n",
        "      indexes = np.random.permutation(np.arange(len(x)))\n",
        "      '''\n",
        "      에포크마다 훈련 세트를 무작위로 섞어 손실 함수의 값을 줄임\n",
        "      arrange 함수 : 0 부터 len(x) - 1까지 1씩 커지는 array 생성\n",
        "      permutation 함수 : array를 무작위로 섞음(실제 array 값에는 변화 없음)\n",
        "      '''\n",
        "\n",
        "      for i in indexes:\n",
        "        z = self.forpass(x[i])\n",
        "        a = self.activation(z)\n",
        "        err = -(y[i] - a)\n",
        "        w_grad, b_grad = self.backprop(x[i], err)\n",
        "\n",
        "        self.w -= w_grad * self.learning_rate\n",
        "        self.b -= b_grad\n",
        "        self.w_history.append(self.w.copy()) # 변화한 가중치 기록\n",
        "\n",
        "        a = np.clip(a, 1e-10, 1-1e-10) # (10의 -10승) ~ (1 - 10의 -10승) 범위\n",
        "        logistic_loss = -(y[i] * np.log(a) + (1-y[i]) * np.log(1-a)) # 로지스틱 손실 함수 값 구하기\n",
        "        loss += logistic_loss\n",
        "\n",
        "      self.losses.append(loss/len(y)) # 손실 함수의 결과값을 샘플 개수로 나누어 평균값 구하기\n",
        "\n",
        "  def predict(self, x):\n",
        "    z = [self.forpass(x_i) for x_i in x] # 다차원 벡터\n",
        "    return np.array(z) > 0 # 다차원 벡터\n",
        "    '''\n",
        "    시그모이드 출력값의 판단 기준은 0.5이다.\n",
        "    z가 0보다 크면 a가 0.5보다 크고 a가 0보다 작으면 a가 0.5보다 작아지기 때문에\n",
        "    predict 함수에서는 굳이 시그모이드 함수를 사용할 필요가 없이 z만으로 비교한다.\n",
        "    '''\n",
        "    \n",
        "  def score(self, x, y):\n",
        "    return np.mean(self.predict(x) == y) # 정확도 계산\n",
        "  \n",
        "layer1 = SingleLayer()\n",
        "layer1.fit(x_train, y_train)\n",
        "print(layer1.score(x_val, y_val))"
      ],
      "execution_count": 8,
      "outputs": [
        {
          "output_type": "stream",
          "text": [
            "0.9120879120879121\n"
          ],
          "name": "stdout"
        }
      ]
    },
    {
      "cell_type": "code",
      "metadata": {
        "colab": {
          "base_uri": "https://localhost:8080/",
          "height": 279
        },
        "id": "wHWC1d_qRbRW",
        "outputId": "5a9bfd66-9085-4553-f3e6-4acac7585a69"
      },
      "source": [
        "w2 = list()\n",
        "w3 = list()\n",
        "\n",
        "for w in layer1.w_history:\n",
        "  w2.append(w[2])\n",
        "  w3.append(w[3])\n",
        "\n",
        "plt.plot(w2, w3)\n",
        "plt.plot(w2[-1], w3[-1], 'ro')\n",
        "plt.xlabel('w[2]')\n",
        "plt.ylabel('w[3]')\n",
        "plt.show()\n",
        "\n",
        "# w3에 대한 그레디언트가 크기 때문에 w3축을 따라 가중치가 크게 요동치고 있다"
      ],
      "execution_count": 9,
      "outputs": [
        {
          "output_type": "display_data",
          "data": {
            "image/png": "[encoded data removed]",
            "text/plain": [
              "<Figure size 432x288 with 1 Axes>"
            ]
          },
          "metadata": {
            "tags": [],
            "needs_background": "light"
          }
        }
      ]
    },
    {
      "cell_type": "code",
      "metadata": {
        "colab": {
          "base_uri": "https://localhost:8080/",
          "height": 297
        },
        "id": "wtrrgMrkUWMC",
        "outputId": "62e68c99-b60f-47e0-eeff-1a4133a98012"
      },
      "source": [
        "# scale standardization\n",
        "\n",
        "train_mean = np.mean(x_train, axis = 0) # axis = 0 : 2차원 배열의 열을 기준으로 계산 -> 1행 벡터로 만듬\n",
        "train_std = np.std(x_train, axis = 0)\n",
        "x_train_scaled = (x_train - train_mean) / train_std\n",
        "\n",
        "layer2 = SingleLayer()\n",
        "layer2.fit(x_train_scaled, y_train)\n",
        "w2 = list()\n",
        "w3 = list()\n",
        "for w in layer2.w_history:\n",
        "  w2.append(w[2])\n",
        "  w3.append(w[3])\n",
        "plt.plot(w2, w3)\n",
        "plt.plot(w2[-1], w3[-1], 'ro')\n",
        "plt.xlabel('w[2]')\n",
        "plt.ylabel('w[3]')\n",
        "\n",
        "plt.show()\n",
        "print(layer2.score(x_val, y_val))\n",
        "# w2와 w3의 변화 비율이 비슷하기 때문에 대각선 방향으로 가중치 이동\n",
        "# 검증 세트의 스케일을 바꾸지 않았기 때문에 성능이 좋지 않음"
      ],
      "execution_count": 10,
      "outputs": [
        {
          "output_type": "display_data",
          "data": {
            "image/png": "[encoded data removed]",
            "text/plain": [
              "<Figure size 432x288 with 1 Axes>"
            ]
          },
          "metadata": {
            "tags": [],
            "needs_background": "light"
          }
        },
        {
          "output_type": "stream",
          "text": [
            "0.37362637362637363\n"
          ],
          "name": "stdout"
        }
      ]
    },
    {
      "cell_type": "code",
      "metadata": {
        "id": "zayX29-aW3nu",
        "colab": {
          "base_uri": "https://localhost:8080/"
        },
        "outputId": "94dae0a6-5c5e-4553-a5ef-51fd01947ab2"
      },
      "source": [
        "val_mean = np.mean(x_val, axis = 0)\n",
        "val_std = np.std(x_val, axis = 0)\n",
        "x_val_scaled = (x_val - val_mean) / val_std\n",
        "\n",
        "print(layer2.score(x_val_scaled, y_val))"
      ],
      "execution_count": 12,
      "outputs": [
        {
          "output_type": "stream",
          "text": [
            "0.967032967032967\n"
          ],
          "name": "stdout"
        }
      ]
    },
    {
      "cell_type": "code",
      "metadata": {
        "id": "TeYa7jQ11btZ",
        "colab": {
          "base_uri": "https://localhost:8080/",
          "height": 279
        },
        "outputId": "30a2c4d8-eba4-4bc8-82b0-a5f728c89ab3"
      },
      "source": [
        "plt.plot(x_train[:50, 0], x_train[:50, 1], 'bo')\n",
        "plt.plot(x_val[:50, 0], x_val[:50, 1], 'ro')\n",
        "plt.xlabel('feature 1')\n",
        "plt.ylabel('feature 2')\n",
        "plt.legend(['train set', 'val. set'])\n",
        "plt.show()"
      ],
      "execution_count": 13,
      "outputs": [
        {
          "output_type": "display_data",
          "data": {
            "image/png": "[encoded data removed]",
            "text/plain": [
              "<Figure size 432x288 with 1 Axes>"
            ]
          },
          "metadata": {
            "tags": [],
            "needs_background": "light"
          }
        }
      ]
    },
    {
      "cell_type": "code",
      "metadata": {
        "colab": {
          "base_uri": "https://localhost:8080/",
          "height": 297
        },
        "id": "Jf1tGVECHpFT",
        "outputId": "d214bd3d-0d60-4745-c976-62effe8e55dc"
      },
      "source": [
        "plt.plot(x_train_scaled[:50, 0], x_train_scaled[:50, 1], 'bo')\n",
        "plt.plot(x_val_scaled[:50, 0], x_val_scaled[:50, 1], 'ro')\n",
        "plt.xlabel('feature 1')\n",
        "plt.ylabel('feature 2')\n",
        "plt.legend(['train set', 'val. set'])\n",
        "plt.show()\n",
        "\n",
        "'''\n",
        "훈련 세트와 검증 세트가 서로 다른 비율로 조정되어 \n",
        "점과 점 사이의 거리가 변환된 이후에 유지되지 못함\n",
        "'''"
      ],
      "execution_count": 15,
      "outputs": [
        {
          "output_type": "display_data",
          "data": {
            "image/png": "[encoded data removed]",
            "text/plain": [
              "<Figure size 432x288 with 1 Axes>"
            ]
          },
          "metadata": {
            "tags": [],
            "needs_background": "light"
          }
        },
        {
          "output_type": "execute_result",
          "data": {
            "application/vnd.google.colaboratory.intrinsic+json": {
              "type": "string"
            },
            "text/plain": [
              "'\\n훈련 세트와 검증 세트가 서로 다른 비율로 조정되어 \\n점과 점 사이의 거리가 변환된 이후에 유지되지 못함\\n'"
            ]
          },
          "metadata": {
            "tags": []
          },
          "execution_count": 15
        }
      ]
    },
    {
      "cell_type": "code",
      "metadata": {
        "colab": {
          "base_uri": "https://localhost:8080/",
          "height": 297
        },
        "id": "7PosQCf0JioL",
        "outputId": "9c1b133b-665e-41b8-e8e7-b15a91b38c02"
      },
      "source": [
        "x_val_scaled = (x_val - train_mean) / train_std\n",
        "plt.plot(x_train_scaled[:50, 0], x_train_scaled[:50, 1], 'bo')\n",
        "plt.plot(x_val_scaled[:50, 0], x_val_scaled[:50, 1], 'ro')\n",
        "plt.xlabel('feature 1')\n",
        "plt.ylabel('feature 2')\n",
        "plt.legend(['train set', 'val. set'])\n",
        "plt.show()\n",
        "\n",
        "'''\n",
        "훈련 세트의 평균, 표준 편차르 사용하여 검증 세트를 변환\n",
        "검증 세트와 훈련 세트가 동일한 비율로 변환됨\n",
        "'''"
      ],
      "execution_count": 19,
      "outputs": [
        {
          "output_type": "display_data",
          "data": {
            "image/png": "[encoded data removed]",
            "text/plain": [
              "<Figure size 432x288 with 1 Axes>"
            ]
          },
          "metadata": {
            "tags": [],
            "needs_background": "light"
          }
        },
        {
          "output_type": "execute_result",
          "data": {
            "application/vnd.google.colaboratory.intrinsic+json": {
              "type": "string"
            },
            "text/plain": [
              "'\\n훈련 세트의 평균, 표준 편차르 사용하여 검증 세트를 변환\\n검증 세트와 훈련 세트가 동일한 비율로 변환됨\\n'"
            ]
          },
          "metadata": {
            "tags": []
          },
          "execution_count": 19
        }
      ]
    },
    {
      "cell_type": "code",
      "metadata": {
        "colab": {
          "base_uri": "https://localhost:8080/"
        },
        "id": "nvt2J509Kwu4",
        "outputId": "081ecdf5-a8bd-4bba-8f31-dca89d1e1ba9"
      },
      "source": [
        "print(layer2.score(x_val_scaled, y_val))\n",
        "# 검증 세트가 클 경우 성능에 차이가 나타날 수 있다고 한다"
      ],
      "execution_count": 21,
      "outputs": [
        {
          "output_type": "stream",
          "text": [
            "0.967032967032967\n"
          ],
          "name": "stdout"
        }
      ]
    }
  ]
}